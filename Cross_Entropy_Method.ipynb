{
  "nbformat": 4,
  "nbformat_minor": 0,
  "metadata": {
    "colab": {
      "provenance": [],
      "machine_shape": "hm",
      "toc_visible": true
    },
    "kernelspec": {
      "name": "python3",
      "display_name": "Python 3"
    },
    "accelerator": "GPU"
  },
  "cells": [
    {
      "cell_type": "markdown",
      "metadata": {
        "id": "2xOVE9HBG7yH"
      },
      "source": [
        "# Cross-Entropy Method with adapting level of exploration\n",
        "\n",
        "install necessary packages"
      ]
    },
    {
      "cell_type": "code",
      "metadata": {
        "id": "dY1pwIRdMXOO",
        "colab": {
          "base_uri": "https://localhost:8080/"
        },
        "outputId": "bd97d872-205b-413d-bc04-a8c6649e0a97"
      },
      "source": [
        "!apt-get update\n",
        "!apt-get install xvfb\n",
        "!apt-get install x11-utils\n",
        "!apt-get install ffmpeg\n",
        "!apt-get install python-opengl\n",
        "!pip -q install gym pyvirtualdisplay pygame\n",
        "!pip3 install box2d-py\n",
        "\n",
        "# Environment\n",
        "import gym # OpenAI gym\n",
        "import math\n",
        "import frogger_env\n",
        "gym.logger.set_level(40) # suppress warnings on gym\n",
        "\n",
        "# Models and computation\n",
        "import torch # will use pyTorch to handle NN\n",
        "#from torch.distributions import Normal\n",
        "import torch.nn as nn\n",
        "import torch.nn.functional as F\n",
        "import torch.optim as optim\n",
        "import numpy as np\n",
        "from collections import deque\n",
        "import random\n",
        "from random import sample\n",
        "\n",
        "# Visualization\n",
        "import matplotlib\n",
        "import matplotlib.pyplot as plt\n",
        "%matplotlib inline\n",
        "from IPython import display as ipythondisplay\n",
        "from pyvirtualdisplay import Display\n",
        "from gym.wrappers import Monitor\n",
        "import base64\n",
        "\n",
        "# IO\n",
        "from pathlib import Path\n",
        "import os\n"
      ],
      "execution_count": null,
      "outputs": [
        {
          "output_type": "stream",
          "text": [
            "\r0% [Working]\r            \rGet:1 http://ppa.launchpad.net/c2d4u.team/c2d4u4.0+/ubuntu bionic InRelease [15.9 kB]\n",
            "\r0% [Connected to archive.ubuntu.com (91.189.88.152)] [Connecting to security.ub\r                                                                               \rHit:2 http://archive.ubuntu.com/ubuntu bionic InRelease\n",
            "\r0% [Connecting to security.ubuntu.com (91.189.91.38)] [Connected to cloud.r-pro\r                                                                               \rGet:3 https://cloud.r-project.org/bin/linux/ubuntu bionic-cran40/ InRelease [3,626 B]\n",
            "\r0% [Waiting for headers] [Connecting to security.ubuntu.com (91.189.91.38)] [Co\r0% [2 InRelease gpgv 242 kB] [Waiting for headers] [Connecting to security.ubun\r                                                                               \rGet:4 http://archive.ubuntu.com/ubuntu bionic-updates InRelease [88.7 kB]\n",
            "\r0% [2 InRelease gpgv 242 kB] [4 InRelease 14.2 kB/88.7 kB 16%] [Connecting to s\r                                                                               \rHit:5 http://ppa.launchpad.net/cran/libgit2/ubuntu bionic InRelease\n",
            "\r0% [2 InRelease gpgv 242 kB] [4 InRelease 21.4 kB/88.7 kB 24%] [Connecting to s\r0% [2 InRelease gpgv 242 kB] [Connecting to security.ubuntu.com (91.189.91.38)]\r                                                                               \rHit:6 http://ppa.launchpad.net/deadsnakes/ppa/ubuntu bionic InRelease\n",
            "\r0% [2 InRelease gpgv 242 kB] [Waiting for headers] [Connecting to security.ubun\r                                                                               \rGet:7 http://archive.ubuntu.com/ubuntu bionic-backports InRelease [74.6 kB]\n",
            "Hit:8 http://ppa.launchpad.net/graphics-drivers/ppa/ubuntu bionic InRelease\n",
            "Get:9 http://security.ubuntu.com/ubuntu bionic-security InRelease [88.7 kB]\n",
            "Ign:10 https://developer.download.nvidia.com/compute/cuda/repos/ubuntu1804/x86_64  InRelease\n",
            "Ign:11 https://developer.download.nvidia.com/compute/machine-learning/repos/ubuntu1804/x86_64  InRelease\n",
            "Hit:12 https://developer.download.nvidia.com/compute/cuda/repos/ubuntu1804/x86_64  Release\n",
            "Hit:13 https://developer.download.nvidia.com/compute/machine-learning/repos/ubuntu1804/x86_64  Release\n",
            "Get:14 http://ppa.launchpad.net/c2d4u.team/c2d4u4.0+/ubuntu bionic/main Sources [1,745 kB]\n",
            "Get:15 http://ppa.launchpad.net/c2d4u.team/c2d4u4.0+/ubuntu bionic/main amd64 Packages [893 kB]\n",
            "Get:16 http://archive.ubuntu.com/ubuntu bionic-updates/universe amd64 Packages [2,163 kB]\n",
            "Get:19 http://security.ubuntu.com/ubuntu bionic-security/universe amd64 Packages [1,396 kB]\n",
            "Fetched 6,469 kB in 2s (2,781 kB/s)\n",
            "Reading package lists... Done\n",
            "Reading package lists... Done\n",
            "Building dependency tree       \n",
            "Reading state information... Done\n",
            "xvfb is already the newest version (2:1.19.6-1ubuntu4.8).\n",
            "0 upgraded, 0 newly installed, 0 to remove and 46 not upgraded.\n",
            "Reading package lists... Done\n",
            "Building dependency tree       \n",
            "Reading state information... Done\n",
            "x11-utils is already the newest version (7.7+3build1).\n",
            "0 upgraded, 0 newly installed, 0 to remove and 46 not upgraded.\n",
            "Reading package lists... Done\n",
            "Building dependency tree       \n",
            "Reading state information... Done\n",
            "ffmpeg is already the newest version (7:3.4.8-0ubuntu0.2).\n",
            "0 upgraded, 0 newly installed, 0 to remove and 46 not upgraded.\n",
            "Reading package lists... Done\n",
            "Building dependency tree       \n",
            "Reading state information... Done\n",
            "python-opengl is already the newest version (3.1.0+dfsg-1).\n",
            "0 upgraded, 0 newly installed, 0 to remove and 46 not upgraded.\n",
            "Requirement already satisfied: box2d-py in /usr/local/lib/python3.7/dist-packages (2.3.8)\n"
          ],
          "name": "stdout"
        }
      ]
    },
    {
      "cell_type": "markdown",
      "metadata": {
        "id": "uoesqvXeHpzy"
      },
      "source": [
        "# Test out things"
      ]
    },
    {
      "cell_type": "code",
      "metadata": {
        "id": "6V_9FNC3JKH_"
      },
      "source": [
        "display = Display(visible=0, size=(600, 400))\n",
        "display.start()\n",
        "\n",
        "#Let's define a simple helper function for visualization of episodes\n",
        "def show_video(path):\n",
        "    html = []\n",
        "    for mp4 in Path(path).glob(\"*.mp4\"):\n",
        "        video_b64 = base64.b64encode(mp4.read_bytes())\n",
        "        html.append('''<video alt=\"{}\" autoplay\n",
        "                      controls style=\"height: 400px;\">\n",
        "                      <source src=\"data:video/mp4;base64,{}\" type=\"video/mp4\" />\n",
        "                 </video>'''.format(mp4, video_b64.decode('ascii')))\n",
        "    ipythondisplay.display(ipythondisplay.HTML(data=\"<br>\".join(html)))"
      ],
      "execution_count": null,
      "outputs": []
    },
    {
      "cell_type": "code",
      "metadata": {
        "colab": {
          "base_uri": "https://localhost:8080/",
          "height": 491
        },
        "id": "XB43Ai86JTT6",
        "outputId": "1e30fbbd-bb56-410f-c441-b997c884860d"
      },
      "source": [
        "env = gym.make(\"reacher-v0\")\n",
        "env = Monitor(env, './video', force=True, video_callable=lambda episode: True)\n",
        "env.reset()\n",
        "done = False\n",
        "while not done:\n",
        "    action = 1\n",
        "    obs, reward, done, info = env.step(action)\n",
        "env.close()\n",
        "show_video('./video')"
      ],
      "execution_count": null,
      "outputs": [
        {
          "output_type": "stream",
          "text": [
            "Origin:  [0.0, 0.0]\n",
            "world_width:  50.0\n",
            "world_height:  50.0\n",
            "Screen:  <Surface(600x600x32 SW)>\n"
          ],
          "name": "stdout"
        },
        {
          "output_type": "display_data",
          "data": {
            "text/html": [
              "<video alt=\"video/openaigym.video.0.2342.video000000.mp4\" autoplay \n",
              "                      controls style=\"height: 400px;\">\n",
              "                      <source src=\"data:video/mp4;base64,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\" type=\"video/mp4\" />\n",
              "                 </video>"
            ],
            "text/plain": [
              "<IPython.core.display.HTML object>"
            ]
          },
          "metadata": {
            "tags": []
          }
        }
      ]
    },
    {
      "cell_type": "code",
      "metadata": {
        "colab": {
          "base_uri": "https://localhost:8080/"
        },
        "id": "F-WeT91LJV-E",
        "outputId": "86bd3ca0-a6ec-4506-a013-065c06b6ea66"
      },
      "source": [
        "print('observation space:', env.observation_space)\n",
        "print('action space:', env.action_space)\n"
      ],
      "execution_count": null,
      "outputs": [
        {
          "output_type": "stream",
          "text": [
            "observation space: Box(0.0, 1.0, (6,), float32)\n",
            "action space: Discrete(4)\n"
          ],
          "name": "stdout"
        }
      ]
    },
    {
      "cell_type": "markdown",
      "metadata": {
        "id": "87lH9_kfHuV4"
      },
      "source": [
        "# CEM with adapting the level of exploration"
      ]
    },
    {
      "cell_type": "code",
      "metadata": {
        "id": "NYT5zGpbMdmt"
      },
      "source": [
        "device = torch.device(\"cuda:0\" if torch.cuda.is_available() else \"cpu\")\n",
        "\n",
        "# Simple NN with one hidden layers\n",
        "class CEMNetwork(nn.Module):\n",
        "    def __init__(self, s_size,  a_size, fc_units=16):\n",
        "        \"\"\"Initializing the network.\"\"\"\n",
        "        super(CEMNetwork, self).__init__()\n",
        "        self.env = env\n",
        "        # save values for use in set weights\n",
        "        self.s_size = s_size\n",
        "        self.fc_units = fc_units\n",
        "        self.a_size = a_size\n",
        "        # 1 hidden layer with 16 nodes\n",
        "        self.fc1 = nn.Linear(self.s_size, self.fc_units)\n",
        "        self.fc2 = nn.Linear(self.fc_units, self.a_size)\n",
        "\n",
        "    def forward(self, state):\n",
        "        \"\"\"Perform forward propagation.\"\"\"\n",
        "\n",
        "        x = state\n",
        "        if not isinstance(x, torch.Tensor):\n",
        "            x = torch.tensor(x,\n",
        "                             device=device,\n",
        "                             dtype=torch.float32)\n",
        "            x = x.unsqueeze(0)\n",
        "        x = F.relu(self.fc1(x))\n",
        "        x = self.fc2(x)\n",
        "\n",
        "        return x\n",
        "\n",
        "    def set_weights(self, weights):\n",
        "        \"\"\"\n",
        "        Sets the weight of the network using an incoming weight\n",
        "        algorithm referenced from https://github.com/udacity/deep-reinforcement-learning/blob/master/cross-entropy/CEM.ipynb\n",
        "        \"\"\"\n",
        "        s_size = self.s_size\n",
        "        fc_units = self.fc_units\n",
        "        a_size = self.a_size\n",
        "\n",
        "        fc1_end = (s_size*fc_units)+fc_units\n",
        "        fc1_W = torch.from_numpy(weights[:s_size*fc_units].reshape(s_size, fc_units))\n",
        "        fc1_b = torch.from_numpy(weights[s_size*fc_units:fc1_end])\n",
        "        fc2_W = torch.from_numpy(weights[fc1_end:fc1_end+(fc_units*a_size)].reshape(fc_units, a_size))\n",
        "        fc2_b = torch.from_numpy(weights[fc1_end+(fc_units*a_size):])\n",
        "\n",
        "        self.fc1.weight.data.copy_(fc1_W.view_as(self.fc1.weight.data))\n",
        "        self.fc1.bias.data.copy_(fc1_b.view_as(self.fc1.bias.data))\n",
        "        self.fc2.weight.data.copy_(fc2_W.view_as(self.fc2.weight.data))\n",
        "        self.fc2.bias.data.copy_(fc2_b.view_as(self.fc2.bias.data))\n",
        "\n",
        "    def get_weights_dim(self):\n",
        "        \"\"\"\n",
        "        Returns the number of the NN parameters (weights, biases)\n",
        "        \"\"\"\n",
        "        return sum(p.numel() for p in self.parameters())"
      ],
      "execution_count": null,
      "outputs": []
    },
    {
      "cell_type": "code",
      "metadata": {
        "id": "mGOZAN4EMnWZ"
      },
      "source": [
        "class CEMAgent():\n",
        "    def __init__(self):\n",
        "        \"\"\"\n",
        "        Initialize a CEMAgent object.\n",
        "        \"\"\"\n",
        "        self.env = env\n",
        "        self.steps = 0\n",
        "        self.network = CEMNetwork(env.observation_space.shape[0], env.action_space.n, 16).to(device)\n",
        "\n",
        "    def greedy_action(self, state):\n",
        "        \"\"\"\n",
        "        Returns the greedy action.\n",
        "\n",
        "        Params\n",
        "        ======\n",
        "            state (array_like): current state\n",
        "        \"\"\"\n",
        "        with torch.no_grad():\n",
        "            q_values = self.network(state).cpu().detach().data.numpy().squeeze()\n",
        "        return np.argmax(q_values)\n",
        "\n",
        "\n",
        "    def evaluate(self, weights, gamma, n_rollouts=1):\n",
        "        \"\"\"\n",
        "        Returns the mean reward obtained by executing the greedy policy for a fixed number of rollouts.\n",
        "\n",
        "        Params\n",
        "        ======\n",
        "            weights: best weight while evaluating, or current weight during perturbation\n",
        "            gamma:  discount factor\n",
        "            n_rollouts (int): the number of rollouts to be performed\n",
        "        \"\"\"\n",
        "        self.network.set_weights(weights)\n",
        "        episode_return = []\n",
        "        for _ in range(n_rollouts):\n",
        "            state, done = self.env.reset(), False\n",
        "            episode_return.append(0.0)\n",
        "            exp_eval = 0\n",
        "            while not done:\n",
        "                state = torch.from_numpy(state).float().to(device)\n",
        "                action = self.greedy_action(state)\n",
        "                state, reward, done, _ = self.env.step(action)\n",
        "                episode_return[-1] += reward * math.pow(gamma, exp_eval)\n",
        "                exp_eval += 1\n",
        "            self.steps += exp_eval\n",
        "        return np.mean(episode_return)\n",
        "\n",
        "    def train(self, n_iterations, gamma, pert, top_k, sigma, seed, mean):\n",
        "        \"\"\"\n",
        "        Training the agent.\n",
        "        Returns a list of (average evaluation reward over last 10 episodes, total number of steps)\n",
        "\n",
        "        Params\n",
        "        ======\n",
        "            n_iterations (int): max number of iterations\n",
        "            gamma (float): the discount factor\n",
        "            pert (int): number of perturbations\n",
        "            top_k (float): % of top k weights\n",
        "            sigma (float): standard deviation\n",
        "            mean (float): mean\n",
        "            seed (int): a random of fixed seed number\n",
        "        \"\"\"\n",
        "        self.seed = seed\n",
        "        self.mean = mean\n",
        "        self.sigma = sigma\n",
        "        torch.manual_seed(self.seed)\n",
        "        np.random.seed(self.seed)\n",
        "\n",
        "        top_n=int(pert*top_k)\n",
        "\n",
        "        scores_deque = deque(maxlen=10)\n",
        "        scores = np.empty((n_iterations, 2))\n",
        "        scores[:] = np.nan\n",
        "        best_weight = np.zeros(self.network.get_weights_dim())                  # create inital random weight distribution\n",
        "        self.mean = torch.tensor(np.ones(self.network.get_weights_dim())*self.mean)\n",
        "        self.sigma = torch.tensor(np.ones(self.network.get_weights_dim())*self.sigma)\n",
        "\n",
        "        for i_iteration in range(1, n_iterations+1):\n",
        "            # use this function to create perturbations.\n",
        "            random_weights = [np.array(torch.normal(mean=self.mean, std=(self.sigma))) for i in range(pert)]\n",
        "\n",
        "            rewards = np.array([self.evaluate(weights, gamma) for weights in random_weights])    # calculate rewards for each perturbation\n",
        "\n",
        "            # selecting top k weights\n",
        "            top_idx = rewards.argsort()[-top_n:]                             # collect indexes of top k rewards\n",
        "            top_weights = [random_weights[i] for i in top_idx]                # collect the weights using above indexes\n",
        "\n",
        "            # calculating mean and std for next perturbation\n",
        "            self.mean = torch.tensor(np.mean(top_weights, axis=0))            # calculate mean of all best weights (for each weight/bias location) and store as tensor of shape weights\n",
        "            self.sigma = torch.tensor(np.std(top_weights, axis=0))            # calculate std of all best weights (for each weight/bias location) and store as tensor of shape weights\n",
        "\n",
        "            # calculate best weight\n",
        "            best_weight = np.array(top_weights).mean(axis=0)                  # calculate mean of top k weights\n",
        "\n",
        "            # calculate evaluation rewards with 3 rollouts\n",
        "            reward = self.evaluate(best_weight, gamma, 3)\n",
        "            scores_deque.append(reward)\n",
        "            scores[i_iteration-1] = reward, self.steps\n",
        "\n",
        "            print('Iteration {}\\tEvaluation Score: {:.2f}\\tAvg. Evaluation Score: {:.2f}\\tSteps: {}'.format(i_iteration, reward, np.mean(scores_deque), self.steps))\n",
        "\n",
        "        save_checkpoint(self.network,'cem_domini4_'+str(seed)+'.pt',1)\n",
        "        return scores"
      ],
      "execution_count": null,
      "outputs": []
    },
    {
      "cell_type": "code",
      "metadata": {
        "id": "JwnkYJXnRFcX"
      },
      "source": [
        "from google.colab import drive\n",
        "from google.colab import files\n",
        "\n",
        "def save_checkpoint(model, filename, mode=0):\n",
        "    \"\"\"\n",
        "    Save a model to a file in your colab space\n",
        "\n",
        "    Parameters\n",
        "    ----------\n",
        "    model: your Q network\n",
        "    filename: the name of the checkpoint file\n",
        "    mode (int): determines where to store the file\n",
        "                --> 0: collab space 1: Google Drive\n",
        "    \"\"\"\n",
        "    if mode == 1:\n",
        "      drive.mount('/content/gdrive')\n",
        "      path = F\"/content/gdrive/My Drive/{filename}\"\n",
        "      torch.save(model.state_dict(), path)\n",
        "    else:\n",
        "      torch.save(model.state_dict(), filename)\n",
        "\n",
        "def export_to_local_drive(filename):\n",
        "    \"\"\"\n",
        "    Download a file to your local machine\n",
        "\n",
        "    Parameters\n",
        "    ----------\n",
        "    filename: the name of the file\n",
        "    \"\"\"\n",
        "    files.download(filename)"
      ],
      "execution_count": null,
      "outputs": []
    },
    {
      "cell_type": "code",
      "metadata": {
        "colab": {
          "base_uri": "https://localhost:8080/"
        },
        "id": "o5IRWJ8rstiG",
        "outputId": "0bd0de24-e8b6-403a-fc06-aba88e9810d3"
      },
      "source": [
        "env = gym.make(\"reacher-v0\")\n",
        "max_iterations = 50\n",
        "gamma = 0.999\n",
        "perturbations = 50\n",
        "top_k = 0.1\n",
        "sigma = 1.0\n",
        "mean = 0\n",
        "\n",
        "seed = 1\n",
        "env.seed(seed)\n",
        "cem_agent_1 = CEMAgent()\n",
        "scores_1 = cem_agent_1.train(max_iterations, gamma, perturbations, top_k, sigma, seed, mean)\n",
        "\n",
        "seed = 5\n",
        "env.seed(seed)\n",
        "cem_agent_10 = CEMAgent()\n",
        "scores_10 = cem_agent_10.train(max_iterations, gamma, perturbations, top_k, sigma, seed, mean)\n",
        "\n",
        "seed = 12\n",
        "env.seed(seed)\n",
        "cem_agent_12 = CEMAgent()\n",
        "scores_12 = cem_agent_12.train(max_iterations, gamma, perturbations, top_k, sigma, seed, mean)\n"
      ],
      "execution_count": null,
      "outputs": [
        {
          "output_type": "stream",
          "text": [
            "Iteration 1\tEvaluation Score: -0.30\tAvg. Evaluation Score: -0.30\tSteps: 846\n",
            "Iteration 2\tEvaluation Score: -0.30\tAvg. Evaluation Score: -0.30\tSteps: 1710\n",
            "Iteration 3\tEvaluation Score: -0.30\tAvg. Evaluation Score: -0.30\tSteps: 2533\n",
            "Iteration 4\tEvaluation Score: -0.30\tAvg. Evaluation Score: -0.30\tSteps: 3810\n",
            "Iteration 5\tEvaluation Score: -0.30\tAvg. Evaluation Score: -0.30\tSteps: 4800\n",
            "Iteration 6\tEvaluation Score: -0.46\tAvg. Evaluation Score: -0.33\tSteps: 5690\n",
            "Iteration 7\tEvaluation Score: 0.02\tAvg. Evaluation Score: -0.28\tSteps: 6993\n",
            "Iteration 8\tEvaluation Score: -0.31\tAvg. Evaluation Score: -0.28\tSteps: 8454\n",
            "Iteration 9\tEvaluation Score: 0.04\tAvg. Evaluation Score: -0.24\tSteps: 9275\n",
            "Iteration 10\tEvaluation Score: 0.04\tAvg. Evaluation Score: -0.22\tSteps: 10108\n",
            "Iteration 11\tEvaluation Score: 0.04\tAvg. Evaluation Score: -0.18\tSteps: 10692\n",
            "Iteration 12\tEvaluation Score: 0.04\tAvg. Evaluation Score: -0.15\tSteps: 11464\n"
          ],
          "name": "stdout"
        }
      ]
    },
    {
      "cell_type": "code",
      "metadata": {
        "colab": {
          "base_uri": "https://localhost:8080/",
          "height": 573
        },
        "id": "dkpZu8dNsyhG",
        "outputId": "0f14efce-600b-4aa3-e36e-1a37e2f0606a"
      },
      "source": [
        "# plot the scores\n",
        "plt_scores_1, plt_steps_1 = scores_1.T\n",
        "plt_scores_11, plt_steps_11 = scores_10.T\n",
        "plt_scores_12, plt_steps_12 = scores_12.T\n",
        "\n",
        "fig = plt.figure()\n",
        "ax1 = fig.add_subplot(111)\n",
        "plt.plot(np.arange(1, len(plt_scores_1)+1), plt_scores_1, label='Seed 1')\n",
        "plt.plot(np.arange(1, len(plt_scores_11)+1), plt_scores_11, label='Seed 5')\n",
        "plt.plot(np.arange(1, len(plt_scores_12)+1), plt_scores_12, label='Seed 12')\n",
        "plt.ylabel('Score')\n",
        "plt.xlabel('Iteration #')\n",
        "leg = plt.legend();\n",
        "ax1.set_title('Evaluation Reward - Iterartions')\n",
        "#plt.show()\n",
        "\n",
        "fig = plt.figure()\n",
        "ax2 = fig.add_subplot(111)\n",
        "plt.plot(plt_steps_1, plt_scores_1, label='Seed 1')\n",
        "plt.plot(plt_steps_11, plt_scores_11, label='Seed 5')\n",
        "plt.plot(plt_steps_12, plt_scores_12, label='Seed 12')\n",
        "plt.ylabel('Score')\n",
        "plt.xlabel('Steps #')\n",
        "leg = plt.legend();\n",
        "ax2.set_title('Evaluation Reward - Steps')\n",
        "plt.show()"
      ],
      "execution_count": null,
      "outputs": [
        {
          "output_type": "display_data",
          "data": {
            "image/png": "[encoded data removed]",
            "text/plain": [
              "<Figure size 432x288 with 1 Axes>"
            ]
          },
          "metadata": {
            "tags": [],
            "needs_background": "light"
          }
        },
        {
          "output_type": "display_data",
          "data": {
            "image/png": "[encoded data removed]",
            "text/plain": [
              "<Figure size 432x288 with 1 Axes>"
            ]
          },
          "metadata": {
            "tags": [],
            "needs_background": "light"
          }
        }
      ]
    },
    {
      "cell_type": "code",
      "metadata": {
        "id": "X2EzoCe4kWm4"
      },
      "source": [
        "display = Display(visible=0, size=(600, 400))\n",
        "display.start()\n",
        "\n",
        "#Let's define a simple helper function for visualization of episodes\n",
        "def show_video(path):\n",
        "    html = []\n",
        "    for mp4 in Path(path).glob(\"*.mp4\"):\n",
        "        video_b64 = base64.b64encode(mp4.read_bytes())\n",
        "        html.append('''<video alt=\"{}\" autoplay\n",
        "                      controls style=\"height: 400px;\">\n",
        "                      <source src=\"data:video/mp4;base64,{}\" type=\"video/mp4\" />\n",
        "                 </video>'''.format(mp4, video_b64.decode('ascii')))\n",
        "    ipythondisplay.display(ipythondisplay.HTML(data=\"<br>\".join(html)))"
      ],
      "execution_count": null,
      "outputs": []
    },
    {
      "cell_type": "code",
      "metadata": {
        "id": "ihx-8OP5l6pm",
        "colab": {
          "base_uri": "https://localhost:8080/",
          "height": 508
        },
        "outputId": "b23196c9-ea79-480c-fece-f3297d6ee00f"
      },
      "source": [
        "env = gym.make('reacher-v0')\n",
        "env = Monitor(env, './video', force=True, video_callable=lambda episode: True)\n",
        "state = env.reset()\n",
        "done = False\n",
        "rev = 0\n",
        "while not done:\n",
        "    action = cem_agent_1.greedy_action(state)\n",
        "    state, reward, done, _ = env.step(action)\n",
        "    rev += reward\n",
        "print(rev)\n",
        "env.close()\n",
        "show_video('./video')\n",
        "\n",
        "del env"
      ],
      "execution_count": null,
      "outputs": [
        {
          "output_type": "stream",
          "text": [
            "Origin:  [0.0, 0.0]\n",
            "world_width:  50.0\n",
            "world_height:  50.0\n",
            "Screen:  <Surface(600x600x32 SW)>\n",
            "1.4336206947403212\n"
          ],
          "name": "stdout"
        },
        {
          "output_type": "display_data",
          "data": {
            "text/html": [
              "<video alt=\"video/openaigym.video.5.73.video000000.mp4\" autoplay \n",
              "                      controls style=\"height: 400px;\">\n",
              "                      <source src=\"data:video/mp4;base64,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\" type=\"video/mp4\" />\n",
              "                 </video>"
            ],
            "text/plain": [
              "<IPython.core.display.HTML object>"
            ]
          },
          "metadata": {
            "tags": []
          }
        }
      ]
    }
  ]
}